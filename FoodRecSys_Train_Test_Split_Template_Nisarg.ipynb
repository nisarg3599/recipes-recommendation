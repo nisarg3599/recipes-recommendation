{
 "cells": [
  {
   "cell_type": "markdown",
   "metadata": {
    "id": "htey1FpQcn3X"
   },
   "source": [
    "## Setup"
   ]
  },
  {
   "cell_type": "code",
   "execution_count": 1,
   "metadata": {
    "colab": {
     "base_uri": "https://localhost:8080/"
    },
    "id": "NRiDLBE1l-Dw",
    "outputId": "ba5682d7-ceef-4614-cc10-8481bab3312a"
   },
   "outputs": [
    {
     "name": "stdout",
     "output_type": "stream",
     "text": [
      "Mounted at /content/drive\n"
     ]
    }
   ],
   "source": [
    "import os\n",
    "# give googe drive the required permission\n",
    "from google.colab import drive\n",
    "drive.mount('/content/drive')"
   ]
  },
  {
   "cell_type": "code",
   "execution_count": 2,
   "metadata": {
    "colab": {
     "base_uri": "https://localhost:8080/",
     "height": 36
    },
    "id": "BwzVR59Ll-Dw",
    "outputId": "b7efff5b-69a4-4bb4-91f0-cf7fb063c658"
   },
   "outputs": [
    {
     "data": {
      "application/vnd.google.colaboratory.intrinsic+json": {
       "type": "string"
      },
      "text/plain": [
       "'/content/drive/MyDrive/FoodRecSys'"
      ]
     },
     "execution_count": 2,
     "metadata": {},
     "output_type": "execute_result"
    }
   ],
   "source": [
    "# Create a folder in your drive and add the name of that folder here. \n",
    "# For example, for the code below to run correctly, you need to have a folder named FoodRecSys in 'My Drive'.  \n",
    "# The said folder will be your home directory for the rest of the project. \n",
    "# You will be able to save and read data from the folder. \n",
    "\n",
    "os.chdir(\"/content/drive/MyDrive/FoodRecSys\")\n",
    "os.getcwd()"
   ]
  },
  {
   "cell_type": "code",
   "execution_count": 3,
   "metadata": {
    "colab": {
     "base_uri": "https://localhost:8080/",
     "height": 36
    },
    "id": "BpUqlBP89U8I",
    "outputId": "69f22315-62f1-4e85-e4eb-a0126f1d06e7"
   },
   "outputs": [
    {
     "data": {
      "application/vnd.google.colaboratory.intrinsic+json": {
       "type": "string"
      },
      "text/plain": [
       "'/content/drive/MyDrive/food_recsys_project/Code Files'"
      ]
     },
     "execution_count": 3,
     "metadata": {},
     "output_type": "execute_result"
    }
   ],
   "source": [
    "os.chdir(\"/content/drive/MyDrive/food_recsys_project/Code Files\")\n",
    "os.getcwd()"
   ]
  },
  {
   "cell_type": "code",
   "execution_count": 4,
   "metadata": {
    "colab": {
     "base_uri": "https://localhost:8080/"
    },
    "id": "zFl1W65u9U2q",
    "outputId": "f927ea50-2a46-4e79-898f-2347fdaea22a"
   },
   "outputs": [
    {
     "name": "stdout",
     "output_type": "stream",
     "text": [
      "Looking in indexes: https://pypi.org/simple, https://us-python.pkg.dev/colab-wheels/public/simple/\n",
      "Collecting pyspark==3.1.2\n",
      "  Downloading pyspark-3.1.2.tar.gz (212.4 MB)\n",
      "\u001b[K     |████████████████████████████████| 212.4 MB 69 kB/s \n",
      "\u001b[?25hCollecting py4j==0.10.9\n",
      "  Downloading py4j-0.10.9-py2.py3-none-any.whl (198 kB)\n",
      "\u001b[K     |████████████████████████████████| 198 kB 20.1 MB/s \n",
      "\u001b[?25hBuilding wheels for collected packages: pyspark\n",
      "  Building wheel for pyspark (setup.py) ... \u001b[?25l\u001b[?25hdone\n",
      "  Created wheel for pyspark: filename=pyspark-3.1.2-py2.py3-none-any.whl size=212880769 sha256=8e974fc775239a3a5efe90acf5fa3f389c7cd8103895bc43c68782e037f03b80\n",
      "  Stored in directory: /root/.cache/pip/wheels/a5/0a/c1/9561f6fecb759579a7d863dcd846daaa95f598744e71b02c77\n",
      "Successfully built pyspark\n",
      "Installing collected packages: py4j, pyspark\n",
      "Successfully installed py4j-0.10.9 pyspark-3.1.2\n"
     ]
    }
   ],
   "source": [
    "try:\n",
    "  import pyspark \n",
    "except:\n",
    "  !pip install pyspark==3.1.2\n",
    "  import pyspark"
   ]
  },
  {
   "cell_type": "code",
   "execution_count": 5,
   "metadata": {
    "id": "oBvA-zmx2_vE"
   },
   "outputs": [],
   "source": [
    "from pyspark.sql import SparkSession\n",
    "from pyspark.context import SparkContext"
   ]
  },
  {
   "cell_type": "code",
   "execution_count": 6,
   "metadata": {
    "id": "H07v5FBc9fW9"
   },
   "outputs": [],
   "source": [
    "spark = SparkSession.builder.master(\"local\").config('spark.ui.port', '4050').getOrCreate()"
   ]
  },
  {
   "cell_type": "code",
   "execution_count": 7,
   "metadata": {
    "colab": {
     "base_uri": "https://localhost:8080/",
     "height": 219
    },
    "id": "eqeHc0B_9nOG",
    "outputId": "e173f384-fac1-46e6-a953-d293007dfac9"
   },
   "outputs": [
    {
     "data": {
      "text/html": [
       "\n",
       "            <div>\n",
       "                <p><b>SparkSession - in-memory</b></p>\n",
       "                \n",
       "        <div>\n",
       "            <p><b>SparkContext</b></p>\n",
       "\n",
       "            <p><a href=\"http://3cc94d06f1d3:4050\">Spark UI</a></p>\n",
       "\n",
       "            <dl>\n",
       "              <dt>Version</dt>\n",
       "                <dd><code>v3.1.2</code></dd>\n",
       "              <dt>Master</dt>\n",
       "                <dd><code>local</code></dd>\n",
       "              <dt>AppName</dt>\n",
       "                <dd><code>pyspark-shell</code></dd>\n",
       "            </dl>\n",
       "        </div>\n",
       "        \n",
       "            </div>\n",
       "        "
      ],
      "text/plain": [
       "<pyspark.sql.session.SparkSession at 0x7f91a2a5db10>"
      ]
     },
     "execution_count": 7,
     "metadata": {},
     "output_type": "execute_result"
    }
   ],
   "source": [
    "spark"
   ]
  },
  {
   "cell_type": "markdown",
   "metadata": {
    "id": "OuQIGExwctpy"
   },
   "source": [
    "## Imports"
   ]
  },
  {
   "cell_type": "code",
   "execution_count": 8,
   "metadata": {
    "id": "QTo-V_Tt9eoN"
   },
   "outputs": [],
   "source": [
    "import pandas as pd \n",
    "import numpy as np\n",
    "\n",
    "from pyspark.sql import functions as F\n",
    "# Import for typecasting columns\n",
    "from pyspark.sql.types import IntegerType,BooleanType,DateType,FloatType,StringType, ArrayType"
   ]
  },
  {
   "cell_type": "markdown",
   "metadata": {
    "id": "lJbriFKH9AwM"
   },
   "source": [
    "## Read the data "
   ]
  },
  {
   "cell_type": "code",
   "execution_count": 9,
   "metadata": {
    "colab": {
     "base_uri": "https://localhost:8080/"
    },
    "id": "EIn0rbL3V7Mn",
    "outputId": "228ddc29-c91d-4612-a4b0-c4b81c3f51f6"
   },
   "outputs": [
    {
     "name": "stdout",
     "output_type": "stream",
     "text": [
      "--2022-10-07 03:20:55--  https://raw-recipes-clean-upgrad.s3.amazonaws.com/raw_recipies_small.csv\n",
      "Resolving raw-recipes-clean-upgrad.s3.amazonaws.com (raw-recipes-clean-upgrad.s3.amazonaws.com)... 52.216.165.251\n",
      "Connecting to raw-recipes-clean-upgrad.s3.amazonaws.com (raw-recipes-clean-upgrad.s3.amazonaws.com)|52.216.165.251|:443... connected.\n",
      "HTTP request sent, awaiting response... 200 OK\n",
      "Length: 25722029 (25M) [text/csv]\n",
      "Saving to: ‘/content/drive/MyDrive/FoodRecSys/raw_recipies_small.csv.1’\n",
      "\n",
      "raw_recipies_small. 100%[===================>]  24.53M  54.6MB/s    in 0.4s    \n",
      "\n",
      "2022-10-07 03:20:56 (54.6 MB/s) - ‘/content/drive/MyDrive/FoodRecSys/raw_recipies_small.csv.1’ saved [25722029/25722029]\n",
      "\n"
     ]
    }
   ],
   "source": [
    "!wget https://raw-recipes-clean-upgrad.s3.amazonaws.com/raw_recipies_small.csv -P /content/drive/MyDrive/FoodRecSys"
   ]
  },
  {
   "cell_type": "code",
   "execution_count": 10,
   "metadata": {
    "colab": {
     "base_uri": "https://localhost:8080/"
    },
    "id": "sbTDj8djWG_7",
    "outputId": "8cedfe6e-eaa6-4072-b4dc-0366797427dc"
   },
   "outputs": [
    {
     "name": "stdout",
     "output_type": "stream",
     "text": [
      "--2022-10-07 03:20:56--  https://raw-recipes-clean-upgrad.s3.amazonaws.com/raw_ratings_small.csv\n",
      "Resolving raw-recipes-clean-upgrad.s3.amazonaws.com (raw-recipes-clean-upgrad.s3.amazonaws.com)... 52.216.165.251\n",
      "Connecting to raw-recipes-clean-upgrad.s3.amazonaws.com (raw-recipes-clean-upgrad.s3.amazonaws.com)|52.216.165.251|:443... connected.\n",
      "HTTP request sent, awaiting response... 200 OK\n",
      "Length: 28954423 (28M) [text/csv]\n",
      "Saving to: ‘/content/drive/MyDrive/FoodRecSys/raw_ratings_small.csv.1’\n",
      "\n",
      "raw_ratings_small.c 100%[===================>]  27.61M  43.6MB/s    in 0.6s    \n",
      "\n",
      "2022-10-07 03:20:57 (43.6 MB/s) - ‘/content/drive/MyDrive/FoodRecSys/raw_ratings_small.csv.1’ saved [28954423/28954423]\n",
      "\n"
     ]
    }
   ],
   "source": [
    "!wget https://raw-recipes-clean-upgrad.s3.amazonaws.com/raw_ratings_small.csv -P /content/drive/MyDrive/FoodRecSys"
   ]
  },
  {
   "cell_type": "code",
   "execution_count": 11,
   "metadata": {
    "id": "6fBd-ymZ85_e"
   },
   "outputs": [],
   "source": [
    "raw_ratings_df = (spark.read.csv(\"/content/drive/MyDrive/FoodRecSys/raw_ratings_small.csv\", # modify the path to read the data\n",
    "                                 header=True, \n",
    "                                 inferSchema= True))"
   ]
  },
  {
   "cell_type": "code",
   "execution_count": 12,
   "metadata": {
    "id": "dXuL1Sq09Akr"
   },
   "outputs": [],
   "source": [
    "raw_recipes_df = spark.read.csv(\"/content/drive/MyDrive/FoodRecSys/raw_recipies_small.csv\", # modify the path to read the data\n",
    "                                header=True, \n",
    "                                inferSchema=True)"
   ]
  },
  {
   "cell_type": "code",
   "execution_count": 13,
   "metadata": {
    "colab": {
     "base_uri": "https://localhost:8080/"
    },
    "id": "neE0HgEaW5a5",
    "outputId": "6b4d9144-74fe-4503-e76e-0e47ea47a975"
   },
   "outputs": [
    {
     "data": {
      "text/plain": [
       "93357"
      ]
     },
     "execution_count": 13,
     "metadata": {},
     "output_type": "execute_result"
    }
   ],
   "source": [
    "raw_ratings_df.count()"
   ]
  },
  {
   "cell_type": "code",
   "execution_count": 14,
   "metadata": {
    "id": "Mkaj1BabtAg1"
   },
   "outputs": [],
   "source": [
    "assert (raw_recipes_df.count(), len(raw_recipes_df.columns)) == (20340, 13)\n",
    "assert (raw_ratings_df.count(), len(raw_ratings_df.columns)) == (93357, 5)"
   ]
  },
  {
   "cell_type": "markdown",
   "metadata": {
    "id": "lILWFlP-9tKr"
   },
   "source": [
    "#### Decide a split date based on the ratings dataframe. "
   ]
  },
  {
   "cell_type": "code",
   "execution_count": 15,
   "metadata": {
    "id": "COU5Qg1A-CT7"
   },
   "outputs": [],
   "source": [
    "# Find the number of data points in the interaction dataset. \n",
    "# You can use the count() method. \n",
    "# The output must be an integer.\n",
    "\n",
    "num_review_int = raw_ratings_df.count()"
   ]
  },
  {
   "cell_type": "markdown",
   "metadata": {
    "id": "Ea0ZeHC0JXjy"
   },
   "source": [
    "#### Task 01 - Train Test Split \n",
    "\n",
    "Divide the data into train and test based on the 80 - 20 split using the approach discussed. You will have to save the data in a parquet file. "
   ]
  },
  {
   "cell_type": "code",
   "execution_count": 16,
   "metadata": {
    "id": "gz8RpPOo-CSO"
   },
   "outputs": [],
   "source": [
    "test_num_reviews_int = round(num_review_int *0.2)"
   ]
  },
  {
   "cell_type": "code",
   "execution_count": 17,
   "metadata": {
    "id": "1uBP9W-t-CPm"
   },
   "outputs": [],
   "source": [
    "# Sort the interactions dataset in descending order of review date. \n",
    "# Extract ```test_num_reviews_int``` most recent reviews. \n",
    "\n",
    "temp_ratings_df = (raw_ratings_df.sort(\"review_date\", ascending=False)\n",
    "                                 .limit(test_num_reviews_int)\n",
    "                  )"
   ]
  },
  {
   "cell_type": "code",
   "execution_count": 18,
   "metadata": {
    "id": "TxxjUoxvtJta"
   },
   "outputs": [],
   "source": [
    "assert temp_ratings_df.count()  == 18671\n",
    "assert raw_recipes_df.collect()[11][4] <= raw_recipes_df.collect()[10][4] "
   ]
  },
  {
   "cell_type": "code",
   "execution_count": 19,
   "metadata": {
    "colab": {
     "base_uri": "https://localhost:8080/",
     "height": 36
    },
    "id": "vC5khu2X-CIj",
    "outputId": "14d1939f-e4fe-4f81-aaf4-f2f974ff4380"
   },
   "outputs": [
    {
     "data": {
      "application/vnd.google.colaboratory.intrinsic+json": {
       "type": "string"
      },
      "text/plain": [
       "'2011-07-17'"
      ]
     },
     "execution_count": 19,
     "metadata": {},
     "output_type": "execute_result"
    }
   ],
   "source": [
    "temp_ratings_df.collect()[-1][4]"
   ]
  },
  {
   "cell_type": "markdown",
   "metadata": {
    "id": "ZTKyBLjFJTmr"
   },
   "source": [
    "Split the data into two parts before and after 2011-07-17. \n",
    "\n",
    "- All reviews in the ratings data after 2011-07-17 will not exsist in the training set. \n",
    "- For all future predictions the date will be set at 2011-07-18.   "
   ]
  },
  {
   "cell_type": "code",
   "execution_count": 20,
   "metadata": {
    "id": "cCuNwQMEhBPi"
   },
   "outputs": [],
   "source": [
    "# Join raw_recipes and raw_ratings\n",
    "# Use recipe_id as the key to join these dataframes \n",
    "# The resulting dataframe must have all rows from the raw_ratings dataframe. \n",
    "\n",
    "interaction_level_df = raw_ratings_df.join(\n",
    "                                           raw_recipes_df,# dataframe 2\n",
    "                                           raw_ratings_df.recipe_id ==  raw_recipes_df.id,# key to join \n",
    "                                           \"left\"# how to join    \n",
    "                                          )"
   ]
  },
  {
   "cell_type": "code",
   "execution_count": 21,
   "metadata": {
    "colab": {
     "base_uri": "https://localhost:8080/"
    },
    "id": "DwzCJDkhddRU",
    "outputId": "ccb3dfcf-59d8-47e6-a9b8-0eb4dd8d4e4d"
   },
   "outputs": [
    {
     "data": {
      "text/plain": [
       "93357"
      ]
     },
     "execution_count": 21,
     "metadata": {},
     "output_type": "execute_result"
    }
   ],
   "source": [
    "interaction_level_df.count()"
   ]
  },
  {
   "cell_type": "code",
   "execution_count": 22,
   "metadata": {
    "colab": {
     "base_uri": "https://localhost:8080/"
    },
    "id": "wKyo7BfRtpmE",
    "outputId": "34979045-d749-4a28-d629-e20d80b1e1cb"
   },
   "outputs": [
    {
     "name": "stdout",
     "output_type": "stream",
     "text": [
      "+----------+---------+------+--------------------+-----------+--------------------+-----+-------+--------------+----------+--------------------+--------------------+-------+--------------------+--------------------+--------------------+-------------+--------------+\n",
      "|   user_id|recipe_id|rating|              review|review_date|                name|   id|minutes|contributor_id| submitted|                tags|           nutrition|n_steps|               steps|         description|         ingredients|n_ingredients|year_of_review|\n",
      "+----------+---------+------+--------------------+-----------+--------------------+-----+-------+--------------+----------+--------------------+--------------------+-------+--------------------+--------------------+--------------------+-------------+--------------+\n",
      "|    152552|    29601|     5|Excellent. It was...| 2004-08-20|zippy cold spicy ...|29601|    270|         30367|2002-05-29|['time-to-make', ...|[277.2, 15.0, 13....|     12|['in a heavy 10-i...|shrimp drink in t...|['oil', 'medium s...|           11|          2002|\n",
      "|     16334|    33602|     5|So easy my husban...| 2002-12-20|zucchini with oni...|33602|     50|         23302|2002-07-08|['60-minutes-or-l...|[84.4, 5.0, 28.0,...|      5|['melt the butter...|                null|['unsalted butter...|            6|          2002|\n",
      "|     31635|    33602|     4|Absolutely delici...| 2005-06-03|zucchini with oni...|33602|     50|         23302|2002-07-08|['60-minutes-or-l...|[84.4, 5.0, 28.0,...|      5|['melt the butter...|                null|['unsalted butter...|            6|          2002|\n",
      "|     35526|    33602|     5|We really liked t...| 2005-11-09|zucchini with oni...|33602|     50|         23302|2002-07-08|['60-minutes-or-l...|[84.4, 5.0, 28.0,...|      5|['melt the butter...|                null|['unsalted butter...|            6|          2002|\n",
      "|     48107|    35912|     4|The quiche was ve...| 2002-12-24|cheesy bacon   sa...|35912|     75|         45698|2002-08-02|['bacon', 'weekni...|[4123.9, 503.0, 2...|     13|['preheat oven to...|neat breakfast (o...|['breakfast sausa...|            9|          2002|\n",
      "|    141980|    35912|     4|I made this over ...| 2004-06-06|cheesy bacon   sa...|35912|     75|         45698|2002-08-02|['bacon', 'weekni...|[4123.9, 503.0, 2...|     13|['preheat oven to...|neat breakfast (o...|['breakfast sausa...|            9|          2002|\n",
      "|     60989|    35912|     5|Perfect quiche. E...| 2006-11-07|cheesy bacon   sa...|35912|     75|         45698|2002-08-02|['bacon', 'weekni...|[4123.9, 503.0, 2...|     13|['preheat oven to...|neat breakfast (o...|['breakfast sausa...|            9|          2002|\n",
      "|    537937|    35912|     5|Thanks Ocean for ...| 2008-02-03|cheesy bacon   sa...|35912|     75|         45698|2002-08-02|['bacon', 'weekni...|[4123.9, 503.0, 2...|     13|['preheat oven to...|neat breakfast (o...|['breakfast sausa...|            9|          2002|\n",
      "|1802380878|    35912|     0|I pretty much fol...| 2014-01-19|cheesy bacon   sa...|35912|     75|         45698|2002-08-02|['bacon', 'weekni...|[4123.9, 503.0, 2...|     13|['preheat oven to...|neat breakfast (o...|['breakfast sausa...|            9|          2002|\n",
      "|     53378|    40335|     5|You are right  th...| 2002-10-05|emeril s tater to...|40335|     55|          3288|2002-09-16|['celebrity', 'ha...|[1258.0, 129.0, 2...|      8|['preheat the ove...|got this kid frie...|['butter', 'eggs'...|            9|          2002|\n",
      "|     57562|    40335|     3|I would rate this...| 2002-11-02|emeril s tater to...|40335|     55|          3288|2002-09-16|['celebrity', 'ha...|[1258.0, 129.0, 2...|      8|['preheat the ove...|got this kid frie...|['butter', 'eggs'...|            9|          2002|\n",
      "|     47230|    40335|     5|YUMMY!! These tat...| 2002-11-09|emeril s tater to...|40335|     55|          3288|2002-09-16|['celebrity', 'ha...|[1258.0, 129.0, 2...|      8|['preheat the ove...|got this kid frie...|['butter', 'eggs'...|            9|          2002|\n",
      "|     55536|    40335|     4|Great tasting dis...| 2003-08-17|emeril s tater to...|40335|     55|          3288|2002-09-16|['celebrity', 'ha...|[1258.0, 129.0, 2...|      8|['preheat the ove...|got this kid frie...|['butter', 'eggs'...|            9|          2002|\n",
      "|2001602879|    40335|     5|Using the feedbac...| 2017-06-27|emeril s tater to...|40335|     55|          3288|2002-09-16|['celebrity', 'ha...|[1258.0, 129.0, 2...|      8|['preheat the ove...|got this kid frie...|['butter', 'eggs'...|            9|          2002|\n",
      "|     14823|    40386|     5|This was very goo...| 2002-10-16|egg and bacon cas...|40386|     60|         50997|2002-09-16|['60-minutes-or-l...|[4272.4, 523.0, 1...|      9|['place butter in...|breakfast is our ...|['butter', 'crout...|            7|          2002|\n",
      "|     91383|    40386|     4|I cooked this the...| 2003-07-02|egg and bacon cas...|40386|     60|         50997|2002-09-16|['60-minutes-or-l...|[4272.4, 523.0, 1...|      9|['place butter in...|breakfast is our ...|['butter', 'crout...|            7|          2002|\n",
      "|     21443|    40386|     4|My children gave ...| 2005-03-21|egg and bacon cas...|40386|     60|         50997|2002-09-16|['60-minutes-or-l...|[4272.4, 523.0, 1...|      9|['place butter in...|breakfast is our ...|['butter', 'crout...|            7|          2002|\n",
      "|    153188|    40386|     4|This was super go...| 2007-10-19|egg and bacon cas...|40386|     60|         50997|2002-09-16|['60-minutes-or-l...|[4272.4, 523.0, 1...|      9|['place butter in...|breakfast is our ...|['butter', 'crout...|            7|          2002|\n",
      "|     53391|    50348|     5|This is a refresh...| 2003-02-05|pineapple yogurt ...|50348|     35|         61388|2003-01-08|['60-minutes-or-l...|[277.2, 2.0, 224....|      3|['mix yogurt and ...|this recipe is fr...|['low-fat plain y...|            3|          2003|\n",
      "|    142361|    50348|     4|This is very good...| 2007-02-26|pineapple yogurt ...|50348|     35|         61388|2003-01-08|['60-minutes-or-l...|[277.2, 2.0, 224....|      3|['mix yogurt and ...|this recipe is fr...|['low-fat plain y...|            3|          2003|\n",
      "+----------+---------+------+--------------------+-----------+--------------------+-----+-------+--------------+----------+--------------------+--------------------+-------+--------------------+--------------------+--------------------+-------------+--------------+\n",
      "only showing top 20 rows\n",
      "\n"
     ]
    }
   ],
   "source": [
    "interaction_level_df.show()"
   ]
  },
  {
   "cell_type": "code",
   "execution_count": 23,
   "metadata": {
    "id": "orclWiSCKkw7"
   },
   "outputs": [],
   "source": [
    "# Use the filter command to separate the datasets. \n",
    "# All interactions which were rated BEFORE '2011-07-17' will be train data. \n",
    "from pyspark.sql.functions import col\n",
    "\n",
    "train_interaction_level_df  = (interaction_level_df.filter(  \n",
    "                                            (col(\"review_date\") < '2011-07-17' )\n",
    "                                           ))"
   ]
  },
  {
   "cell_type": "code",
   "execution_count": 24,
   "metadata": {
    "id": "sdyQsB2tiE04"
   },
   "outputs": [],
   "source": [
    "# Use the filter command to separate the datasets. \n",
    "# All interactions which were rated ON OR AFTER '2011-07-17' will be test data. \n",
    "from pyspark.sql.functions import col\n",
    "test_interaction_level_all_recipies_df  = (interaction_level_df.filter(  \n",
    "                                            (col(\"review_date\") >= '2011-07-17' )\n",
    "                                           ))"
   ]
  },
  {
   "cell_type": "code",
   "execution_count": 25,
   "metadata": {
    "id": "VTjbMPoCtV2u"
   },
   "outputs": [],
   "source": [
    "assert (test_interaction_level_all_recipies_df.count(), len(test_interaction_level_all_recipies_df.columns)) == (18684, 18)\n",
    "assert (train_interaction_level_df.count(), len(train_interaction_level_df.columns)) == (74673, 18)"
   ]
  },
  {
   "cell_type": "code",
   "execution_count": 26,
   "metadata": {
    "colab": {
     "base_uri": "https://localhost:8080/"
    },
    "id": "Ttot1n6rxi3u",
    "outputId": "80e2e5ab-807c-4afe-f34b-7d9b7cadd841"
   },
   "outputs": [
    {
     "data": {
      "text/plain": [
       "18684"
      ]
     },
     "execution_count": 26,
     "metadata": {},
     "output_type": "execute_result"
    }
   ],
   "source": [
    "test_interaction_level_all_recipies_df.count()"
   ]
  },
  {
   "cell_type": "code",
   "execution_count": 27,
   "metadata": {
    "colab": {
     "base_uri": "https://localhost:8080/"
    },
    "id": "BY7LpSNSxmBX",
    "outputId": "1c54266d-9d8d-4974-8bb9-1090e3e46504"
   },
   "outputs": [
    {
     "data": {
      "text/plain": [
       "18"
      ]
     },
     "execution_count": 27,
     "metadata": {},
     "output_type": "execute_result"
    }
   ],
   "source": [
    "len(test_interaction_level_all_recipies_df.columns)"
   ]
  },
  {
   "cell_type": "code",
   "execution_count": 28,
   "metadata": {
    "colab": {
     "base_uri": "https://localhost:8080/"
    },
    "id": "8jkWIzUrxsSk",
    "outputId": "46edbda4-fee5-492e-da69-b924e6f7daa7"
   },
   "outputs": [
    {
     "data": {
      "text/plain": [
       "74673"
      ]
     },
     "execution_count": 28,
     "metadata": {},
     "output_type": "execute_result"
    }
   ],
   "source": [
    "train_interaction_level_df.count()"
   ]
  },
  {
   "cell_type": "code",
   "execution_count": 29,
   "metadata": {
    "colab": {
     "base_uri": "https://localhost:8080/"
    },
    "id": "-OX4bufJxxag",
    "outputId": "de9e809e-cca7-4719-b488-42b29b85200f"
   },
   "outputs": [
    {
     "data": {
      "text/plain": [
       "18"
      ]
     },
     "execution_count": 29,
     "metadata": {},
     "output_type": "execute_result"
    }
   ],
   "source": [
    "len(train_interaction_level_df.columns)"
   ]
  },
  {
   "cell_type": "code",
   "execution_count": 30,
   "metadata": {
    "id": "hPnT-UZ5IwDa"
   },
   "outputs": [],
   "source": [
    "# create data files for modeling \n",
    "\n",
    "(train_interaction_level_df.coalesce(1)\n",
    "                           .write.mode('overwrite')\n",
    "                           .parquet('/content/drive/MyDrive/food_recsys_project/Code Files/train/train_interaction_level_df.parquet'))  # change the file name and file path\n",
    "\n",
    "(test_interaction_level_all_recipies_df.coalesce(1)\n",
    "                                       .write.mode('overwrite')\n",
    "                                       .parquet('/content/drive/MyDrive/food_recsys_project/Code Files/test/test_interaction_level_df.parquet'))  # change the file name and file path"
   ]
  }
 ],
 "metadata": {
  "colab": {
   "collapsed_sections": [],
   "provenance": []
  },
  "kernelspec": {
   "display_name": "Python 3",
   "language": "python",
   "name": "python3"
  },
  "language_info": {
   "codemirror_mode": {
    "name": "ipython",
    "version": 3
   },
   "file_extension": ".py",
   "mimetype": "text/x-python",
   "name": "python",
   "nbconvert_exporter": "python",
   "pygments_lexer": "ipython3",
   "version": "3.8.8"
  }
 },
 "nbformat": 4,
 "nbformat_minor": 1
}
